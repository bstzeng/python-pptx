{
 "cells": [
  {
   "cell_type": "code",
   "execution_count": 4,
   "metadata": {},
   "outputs": [
    {
     "ename": "ModuleNotFoundError",
     "evalue": "No module named 'matplotlib'",
     "output_type": "error",
     "traceback": [
      "\u001b[1;31m---------------------------------------------------------------------------\u001b[0m",
      "\u001b[1;31mModuleNotFoundError\u001b[0m                       Traceback (most recent call last)",
      "\u001b[1;32m<ipython-input-4-8e2290942106>\u001b[0m in \u001b[0;36m<module>\u001b[1;34m\u001b[0m\n\u001b[0;32m      1\u001b[0m \u001b[1;31m# 匯入python模組\u001b[0m\u001b[1;33m\u001b[0m\u001b[1;33m\u001b[0m\u001b[1;33m\u001b[0m\u001b[0m\n\u001b[0;32m      2\u001b[0m \u001b[1;32mimport\u001b[0m \u001b[0mpandas\u001b[0m \u001b[1;32mas\u001b[0m \u001b[0mpd\u001b[0m\u001b[1;33m\u001b[0m\u001b[1;33m\u001b[0m\u001b[0m\n\u001b[1;32m----> 3\u001b[1;33m \u001b[1;32mimport\u001b[0m \u001b[0mmatplotlib\u001b[0m\u001b[1;33m.\u001b[0m\u001b[0mpyplot\u001b[0m \u001b[1;32mas\u001b[0m \u001b[0mplt\u001b[0m\u001b[1;33m\u001b[0m\u001b[1;33m\u001b[0m\u001b[0m\n\u001b[0m\u001b[0;32m      4\u001b[0m \u001b[1;32mfrom\u001b[0m \u001b[0mmatplotlib\u001b[0m\u001b[1;33m.\u001b[0m\u001b[0mimage\u001b[0m \u001b[1;32mimport\u001b[0m \u001b[0mBboxImage\u001b[0m\u001b[1;33m\u001b[0m\u001b[1;33m\u001b[0m\u001b[0m\n\u001b[0;32m      5\u001b[0m \u001b[1;32mfrom\u001b[0m \u001b[0mmatplotlib\u001b[0m\u001b[1;33m.\u001b[0m\u001b[0mtransforms\u001b[0m \u001b[1;32mimport\u001b[0m \u001b[0mBbox\u001b[0m\u001b[1;33m,\u001b[0m \u001b[0mTransformedBbox\u001b[0m\u001b[1;33m\u001b[0m\u001b[1;33m\u001b[0m\u001b[0m\n",
      "\u001b[1;31mModuleNotFoundError\u001b[0m: No module named 'matplotlib'"
     ]
    }
   ],
   "source": [
    "# 匯入python模組\n",
    "import pandas as pd\n",
    "import matplotlib.pyplot as plt\n",
    "from matplotlib.image import BboxImage\n",
    "from matplotlib.transforms import Bbox, TransformedBbox\n",
    " \n",
    "# 用 pandas 讀資料，取出需要的欄位。\n",
    "df = pd.read_csv(\"300k.csv\") # 皮卡丘的 Pokemon ID 是25，資料結構是DataFrame\n",
    "xData = df[df.pokemonId==25].iloc[:,1] # latitude 緯度\n",
    "yData = df[df.pokemonId==25].iloc[:,2] # longitude 經度\n",
    "\n",
    "# 用 matplotlib 畫出散佈圖，並且將marker換成皮卡丘的icon\n",
    "fig  = plt.figure(figsize = (10, 10)) # 設定圖大小 10 inch * 10 inch\n",
    "ax = fig.add_subplot(111) # 切割子圖 。1*1的第1張子圖\n",
    "for x, y in zip(xData, yData):\n",
    "    b1 = Bbox.from_bounds(x, y, 5, 10) # maker 大小\n",
    "    b2 = TransformedBbox(b1, ax.transData)\n",
    "    bbox_image = BboxImage(b2, norm=None, origin=None, clip_on=False)\n",
    "    marker = plt.imread(\"pikachu_icon.png\") # 讀入icon圖檔，作為散佈圖(scatter)的標記。\n",
    "    bbox_image.set_data(marker)\n",
    "    ax.add_artist(bbox_image)\n",
    "ax.set_xlim(-40, 70) # 設定x軸範圍\n",
    "ax.set_ylim(-180, 180) # 設定y軸範圍\n",
    "plt.rcParams[\"font.sans-serif\"] = [\"SimHei\"] # 用來正常顯示中文\n",
    "plt.rcParams[\"axes.unicode_minus\"] = False # 用來正常顯示負號\n",
    "plt.xlabel(\"緯度\", fontsize=14) # x軸說明\n",
    "plt.ylabel(\"經度\", fontsize=14) # y軸說明\n",
    "plt.title(\"皮卡丘出現位置散佈圖\", fontsize=20) # 圖標題\n",
    "plt.grid(True) # 加上格線\n",
    "plt.savefig(\"pikachu_scatter.png\", dpi=600) # 將圖存擋"
   ]
  },
  {
   "cell_type": "code",
   "execution_count": null,
   "metadata": {},
   "outputs": [],
   "source": []
  }
 ],
 "metadata": {
  "kernelspec": {
   "display_name": "Python 3",
   "language": "python",
   "name": "python3"
  },
  "language_info": {
   "codemirror_mode": {
    "name": "ipython",
    "version": 3
   },
   "file_extension": ".py",
   "mimetype": "text/x-python",
   "name": "python",
   "nbconvert_exporter": "python",
   "pygments_lexer": "ipython3",
   "version": "3.7.3"
  }
 },
 "nbformat": 4,
 "nbformat_minor": 2
}
